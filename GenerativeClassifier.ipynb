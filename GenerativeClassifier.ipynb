{
 "cells": [
  {
   "cell_type": "code",
   "execution_count": 259,
   "metadata": {
    "collapsed": false
   },
   "outputs": [],
   "source": [
    "from preprocess import Parser\n",
    "from classifier import DiscriminativeClassifier, BinaryGenerativeClassifier\n",
    "from evaluation import calc_sd_auc, correlate_AUCs, calc_z_diff\n",
    "import pandas as pd\n",
    "from io import StringIO\n",
    "from nltk.collocations import BigramCollocationFinder, TrigramCollocationFinder\n",
    "from nltk import word_tokenize\n",
    "import nltk\n",
    "import re\n",
    "import operator\n",
    "from topicmodel import LDA\n",
    "from sklearn.model_selection import train_test_split\n",
    "from sklearn.linear_model import LogisticRegressionCV, LogisticRegression\n",
    "from sklearn.metrics import roc_curve, auc, roc_auc_score, accuracy_score, confusion_matrix\n",
    "import numpy as np\n",
    "\n",
    "import matplotlib.pyplot as plt\n",
    "%matplotlib inline"
   ]
  },
  {
   "cell_type": "code",
   "execution_count": 2,
   "metadata": {
    "collapsed": false
   },
   "outputs": [
    {
     "data": {
      "text/html": [
       "<div>\n",
       "<table border=\"1\" class=\"dataframe\">\n",
       "  <thead>\n",
       "    <tr style=\"text-align: right;\">\n",
       "      <th></th>\n",
       "      <th>meeting</th>\n",
       "      <th>text</th>\n",
       "      <th>seq</th>\n",
       "      <th>D_NBER</th>\n",
       "    </tr>\n",
       "  </thead>\n",
       "  <tbody>\n",
       "    <tr>\n",
       "      <th>0</th>\n",
       "      <td>197601</td>\n",
       "      <td>By unanimous vote, the Federal Reserve Bank o...</td>\n",
       "      <td>0</td>\n",
       "      <td>0</td>\n",
       "    </tr>\n",
       "    <tr>\n",
       "      <th>1</th>\n",
       "      <td>197601</td>\n",
       "      <td>Committee, to execute transactions in the Sys...</td>\n",
       "      <td>1</td>\n",
       "      <td>0</td>\n",
       "    </tr>\n",
       "    <tr>\n",
       "      <th>2</th>\n",
       "      <td>197601</td>\n",
       "      <td>The information reviewed at this meeting sugg...</td>\n",
       "      <td>2</td>\n",
       "      <td>0</td>\n",
       "    </tr>\n",
       "    <tr>\n",
       "      <th>3</th>\n",
       "      <td>197601</td>\n",
       "      <td>sales rose sharply, but the increase in the f...</td>\n",
       "      <td>3</td>\n",
       "      <td>0</td>\n",
       "    </tr>\n",
       "    <tr>\n",
       "      <th>4</th>\n",
       "      <td>197601</td>\n",
       "      <td>The exchange value of the dollar against lead...</td>\n",
       "      <td>4</td>\n",
       "      <td>0</td>\n",
       "    </tr>\n",
       "  </tbody>\n",
       "</table>\n",
       "</div>"
      ],
      "text/plain": [
       "   meeting                                               text  seq  D_NBER\n",
       "0   197601   By unanimous vote, the Federal Reserve Bank o...    0       0\n",
       "1   197601   Committee, to execute transactions in the Sys...    1       0\n",
       "2   197601   The information reviewed at this meeting sugg...    2       0\n",
       "3   197601   sales rose sharply, but the increase in the f...    3       0\n",
       "4   197601   The exchange value of the dollar against lead...    4       0"
      ]
     },
     "execution_count": 2,
     "metadata": {},
     "output_type": "execute_result"
    }
   ],
   "source": [
    "data = pd.read_table(StringIO(''.join(l.replace('\\u2028', ' ') for l in open('minutes_data.txt'))))\n",
    "data.head()"
   ]
  },
  {
   "cell_type": "code",
   "execution_count": 3,
   "metadata": {
    "collapsed": false
   },
   "outputs": [
    {
     "data": {
      "text/html": [
       "<div>\n",
       "<table border=\"1\" class=\"dataframe\">\n",
       "  <thead>\n",
       "    <tr style=\"text-align: right;\">\n",
       "      <th></th>\n",
       "      <th>text</th>\n",
       "      <th>meeting</th>\n",
       "      <th>D_NBER</th>\n",
       "    </tr>\n",
       "  </thead>\n",
       "  <tbody>\n",
       "    <tr>\n",
       "      <th>0</th>\n",
       "      <td>By unanimous vote, the Federal Reserve Bank o...</td>\n",
       "      <td>197601</td>\n",
       "      <td>0</td>\n",
       "    </tr>\n",
       "    <tr>\n",
       "      <th>1</th>\n",
       "      <td>By unanimous vote, the Federal Reserve Bank o...</td>\n",
       "      <td>197602</td>\n",
       "      <td>0</td>\n",
       "    </tr>\n",
       "    <tr>\n",
       "      <th>2</th>\n",
       "      <td>By unanimous vote, the Federal Reserve Bank o...</td>\n",
       "      <td>197603</td>\n",
       "      <td>0</td>\n",
       "    </tr>\n",
       "    <tr>\n",
       "      <th>3</th>\n",
       "      <td>By unanimous vote, the Federal Reserve Bank o...</td>\n",
       "      <td>197604</td>\n",
       "      <td>0</td>\n",
       "    </tr>\n",
       "    <tr>\n",
       "      <th>4</th>\n",
       "      <td>With Mr. Coldwell, dissenting, the Federal Re...</td>\n",
       "      <td>197605</td>\n",
       "      <td>0</td>\n",
       "    </tr>\n",
       "  </tbody>\n",
       "</table>\n",
       "</div>"
      ],
      "text/plain": [
       "                                                text  meeting  D_NBER\n",
       "0   By unanimous vote, the Federal Reserve Bank o...   197601       0\n",
       "1   By unanimous vote, the Federal Reserve Bank o...   197602       0\n",
       "2   By unanimous vote, the Federal Reserve Bank o...   197603       0\n",
       "3   By unanimous vote, the Federal Reserve Bank o...   197604       0\n",
       "4   With Mr. Coldwell, dissenting, the Federal Re...   197605       0"
      ]
     },
     "execution_count": 3,
     "metadata": {},
     "output_type": "execute_result"
    }
   ],
   "source": [
    "grouped_data = data.groupby('meeting', as_index=False)\n",
    "full_minutes = pd.concat([grouped_data['text'].apply(' '.join), grouped_data.first()], axis=1)\n",
    "full_minutes.drop(['text', 'seq'], axis=1, inplace=True)\n",
    "full_minutes.rename(columns={0: 'text'}, inplace=True)\n",
    "full_minutes.head()"
   ]
  },
  {
   "cell_type": "code",
   "execution_count": 104,
   "metadata": {
    "collapsed": true
   },
   "outputs": [],
   "source": [
    "# train, validate = train_test_split(full_minutes, test_size=0.2)\n",
    "train, test = train_test_split(full_minutes, test_size=122)"
   ]
  },
  {
   "cell_type": "code",
   "execution_count": 155,
   "metadata": {
    "collapsed": false
   },
   "outputs": [
    {
     "data": {
      "text/plain": [
       "0    101\n",
       "1     21\n",
       "Name: D_NBER, dtype: int64"
      ]
     },
     "execution_count": 155,
     "metadata": {},
     "output_type": "execute_result"
    }
   ],
   "source": [
    "test['D_NBER'].value_counts()"
   ]
  },
  {
   "cell_type": "code",
   "execution_count": 106,
   "metadata": {
    "collapsed": true
   },
   "outputs": [],
   "source": [
    "parser = Parser(lemmatise=False, stem=True, replace_ngrams=False)"
   ]
  },
  {
   "cell_type": "code",
   "execution_count": 107,
   "metadata": {
    "collapsed": false
   },
   "outputs": [
    {
     "name": "stdout",
     "output_type": "stream",
     "text": [
      "Successfully parsed the corpus. # docs:  322\n",
      "Vocabulary size, # tokens:  4202\n"
     ]
    }
   ],
   "source": [
    "full_docs, vocab = parser.parse_vocab(full_minutes['text'])\n",
    "full_corpus = parser.parse_corpus(full_docs, vocab)"
   ]
  },
  {
   "cell_type": "code",
   "execution_count": 108,
   "metadata": {
    "collapsed": false
   },
   "outputs": [],
   "source": [
    "docs, vocab = parser.parse_vocab(train['text'])"
   ]
  },
  {
   "cell_type": "code",
   "execution_count": 109,
   "metadata": {
    "collapsed": false
   },
   "outputs": [
    {
     "name": "stdout",
     "output_type": "stream",
     "text": [
      "Successfully parsed the corpus. # docs:  200\n",
      "Vocabulary size, # tokens:  3776\n"
     ]
    }
   ],
   "source": [
    "train_corpus = parser.parse_corpus(docs, vocab)"
   ]
  },
  {
   "cell_type": "code",
   "execution_count": 110,
   "metadata": {
    "collapsed": false
   },
   "outputs": [
    {
     "name": "stdout",
     "output_type": "stream",
     "text": [
      "Successfully parsed the corpus. # docs:  122\n",
      "Vocabulary size, # tokens:  3776\n"
     ]
    }
   ],
   "source": [
    "# grouped_data = validate.groupby('meeting', as_index=False)\n",
    "# validation_data = pd.concat([grouped_data['text'].apply(' '.join), grouped_data.first()], axis=1)\n",
    "# validation_data.drop(['text', 'seq'], axis=1, inplace=True)\n",
    "# validation_data.rename(columns={0: 'text'}, inplace=True)\n",
    "\n",
    "test_docs, _ = parser.parse_vocab(test['text'])\n",
    "test_corpus = parser.parse_corpus(test_docs, vocab)"
   ]
  },
  {
   "cell_type": "code",
   "execution_count": 111,
   "metadata": {
    "collapsed": true
   },
   "outputs": [],
   "source": [
    "topic_model = LDA(K=50, alpha=1, eta=0.01)"
   ]
  },
  {
   "cell_type": "code",
   "execution_count": 112,
   "metadata": {
    "collapsed": false
   },
   "outputs": [
    {
     "name": "stdout",
     "output_type": "stream",
     "text": [
      "Learning completed!\n",
      "Total time taken: 37s\n",
      "ELBO = -1932407.230804\n"
     ]
    }
   ],
   "source": [
    "theta_train, beta, elbo = topic_model.fit_multiple_runs(train_corpus, vocab, max_iter=100, verbose=False)"
   ]
  },
  {
   "cell_type": "code",
   "execution_count": 113,
   "metadata": {
    "collapsed": true
   },
   "outputs": [],
   "source": [
    "theta_test, _ = topic_model.infer(test_corpus)"
   ]
  },
  {
   "cell_type": "code",
   "execution_count": 264,
   "metadata": {
    "collapsed": false
   },
   "outputs": [
    {
     "data": {
      "text/plain": [
       "LogisticRegressionCV(Cs=10, class_weight=None, cv=None, dual=False,\n",
       "           fit_intercept=True, intercept_scaling=1.0, max_iter=100,\n",
       "           multi_class='ovr', n_jobs=1, penalty='l2', random_state=None,\n",
       "           refit=True, scoring=None, solver='lbfgs', tol=0.0001, verbose=0)"
      ]
     },
     "execution_count": 264,
     "metadata": {},
     "output_type": "execute_result"
    }
   ],
   "source": [
    "model = LogisticRegressionCV()\n",
    "model.fit(theta_train, train['D_NBER'])\n"
   ]
  },
  {
   "cell_type": "code",
   "execution_count": 265,
   "metadata": {
    "collapsed": false
   },
   "outputs": [],
   "source": [
    "prediction = model.predict(theta_test)"
   ]
  },
  {
   "cell_type": "code",
   "execution_count": 266,
   "metadata": {
    "collapsed": false
   },
   "outputs": [
    {
     "data": {
      "text/plain": [
       "0.88524590163934425"
      ]
     },
     "execution_count": 266,
     "metadata": {},
     "output_type": "execute_result"
    }
   ],
   "source": [
    "accuracy_score(test['D_NBER'], prediction)"
   ]
  },
  {
   "cell_type": "code",
   "execution_count": 267,
   "metadata": {
    "collapsed": false
   },
   "outputs": [
    {
     "data": {
      "text/plain": [
       "0.94625176803394628"
      ]
     },
     "execution_count": 267,
     "metadata": {},
     "output_type": "execute_result"
    }
   ],
   "source": [
    "roc_auc_score(test['D_NBER'], model.predict_proba(theta_test)[:, 1])"
   ]
  },
  {
   "cell_type": "code",
   "execution_count": 120,
   "metadata": {
    "collapsed": false
   },
   "outputs": [],
   "source": [
    "pd.DataFrame(theta_train).to_csv('theta_train_random_split.csv', index=False)\n",
    "pd.DataFrame(theta_test).to_csv('theta_test_random_split.csv', index=False)"
   ]
  },
  {
   "cell_type": "code",
   "execution_count": 157,
   "metadata": {
    "collapsed": false
   },
   "outputs": [
    {
     "data": {
      "text/plain": [
       "0.02750707137365724"
      ]
     },
     "execution_count": 157,
     "metadata": {},
     "output_type": "execute_result"
    }
   ],
   "source": [
    "calc_sd_auc(0.94625176803394628, 101, 21)"
   ]
  },
  {
   "cell_type": "markdown",
   "metadata": {},
   "source": [
    "# generative"
   ]
  },
  {
   "cell_type": "code",
   "execution_count": 121,
   "metadata": {
    "collapsed": true
   },
   "outputs": [],
   "source": [
    "recession = train[train['D_NBER'] == 1]\n",
    "growth = train[train['D_NBER'] == 0]"
   ]
  },
  {
   "cell_type": "code",
   "execution_count": 122,
   "metadata": {
    "collapsed": false
   },
   "outputs": [
    {
     "name": "stdout",
     "output_type": "stream",
     "text": [
      "Successfully parsed the corpus. # docs:  18\n",
      "Vocabulary size, # tokens:  3776\n",
      "Successfully parsed the corpus. # docs:  182\n",
      "Vocabulary size, # tokens:  3776\n"
     ]
    }
   ],
   "source": [
    "docs_rec, _ = parser.parse_vocab(recession['text'])\n",
    "train_corpus_rec = parser.parse_corpus(docs_rec, vocab)\n",
    "# v_docs_rec, _ = parser.parse_vocab(validate['text'])\n",
    "# validation_corpus = parser.parse_corpus(validation_docs, vocab)\n",
    "\n",
    "docs_g, _ = parser.parse_vocab(growth['text'])\n",
    "train_corpus_g = parser.parse_corpus(docs_g, vocab)"
   ]
  },
  {
   "cell_type": "code",
   "execution_count": 123,
   "metadata": {
    "collapsed": true
   },
   "outputs": [],
   "source": [
    "model_recession = LDA(K=50, alpha=1, eta=0.01)\n",
    "model_growth = LDA(K=50, alpha=1, eta=0.01)"
   ]
  },
  {
   "cell_type": "code",
   "execution_count": 124,
   "metadata": {
    "collapsed": false
   },
   "outputs": [
    {
     "name": "stdout",
     "output_type": "stream",
     "text": [
      "Learning completed!\n",
      "Total time taken: 14s\n",
      "ELBO = -163346.598357\n"
     ]
    }
   ],
   "source": [
    "theta_train_rec, beta_rec, elbo_rec = model_recession.fit(train_corpus_rec, vocab, max_iter=300, verbose=False)"
   ]
  },
  {
   "cell_type": "code",
   "execution_count": 125,
   "metadata": {
    "collapsed": false
   },
   "outputs": [
    {
     "name": "stdout",
     "output_type": "stream",
     "text": [
      "Learning completed!\n",
      "Total time taken: 89s\n",
      "ELBO = -1768777.484254\n"
     ]
    }
   ],
   "source": [
    "theta_train_g, beta_g, elbo_g = model_growth.fit(train_corpus_g, vocab, max_iter=300, verbose=False)"
   ]
  },
  {
   "cell_type": "code",
   "execution_count": 127,
   "metadata": {
    "collapsed": false
   },
   "outputs": [],
   "source": [
    "theta_test_rec, _ = model_recession.infer(test_corpus)"
   ]
  },
  {
   "cell_type": "code",
   "execution_count": 128,
   "metadata": {
    "collapsed": false
   },
   "outputs": [],
   "source": [
    "theta_test_g, _ = model_growth.infer(test_corpus)"
   ]
  },
  {
   "cell_type": "code",
   "execution_count": 148,
   "metadata": {
    "collapsed": false
   },
   "outputs": [],
   "source": [
    "# from scipy.misc import logsumexp\n",
    "\n",
    "# priors = [0.86, 0.14]\n",
    "# doc_term_ids = test_corpus[0]\n",
    "# doc_term_counts = test_corpus[1]\n",
    "\n",
    "# assert len(doc_term_ids) == len(doc_term_counts)\n",
    "# num_docs = len(doc_term_ids)\n",
    "\n",
    "# doc_probs = []\n",
    "# for d in range(num_docs):\n",
    "#     one_doc_term_ids = doc_term_ids[d]\n",
    "#     one_doc_term_counts = doc_term_counts[d]\n",
    "\n",
    "#     theta_doc_model_1 = theta_test_g[d, :]\n",
    "#     beta_doc_model_1 = beta_g[:, one_doc_term_ids]\n",
    "#     words_prob_model_1 = np.dot(theta_doc_model_1, beta_doc_model_1) * one_doc_term_counts\n",
    "#     # log[P(model 1 | doc)]\n",
    "#     logp_model_1 = np.sum(np.log(words_prob_model_1)) + np.log(priors[0])\n",
    "\n",
    "#     theta_doc_model_2 = theta_test_rec[d, :]\n",
    "#     beta_doc_model_2 = beta_rec[:, one_doc_term_ids]\n",
    "#     words_prob_model_2 = np.dot(theta_doc_model_2, beta_doc_model_2) * one_doc_term_counts\n",
    "#     # log[P(model 2 | doc)]\n",
    "#     logp_model_2 = np.sum(np.log(words_prob_model_2)) + np.log(priors[1])\n",
    "\n",
    "#     log_probs = np.array([logp_model_1, logp_model_2])\n",
    "\n",
    "#     probabilities = np.exp(log_probs - logsumexp(log_probs))\n",
    "\n",
    "#     doc_probs.append(probabilities)\n",
    "\n",
    "# preds = list(map(lambda x: 0 if np.argmax(x) == 0 else 1, doc_probs))"
   ]
  },
  {
   "cell_type": "code",
   "execution_count": 138,
   "metadata": {
    "collapsed": false
   },
   "outputs": [
    {
     "name": "stdout",
     "output_type": "stream",
     "text": [
      "A generative classifier is initialised.\n"
     ]
    }
   ],
   "source": [
    "gen_classifier = BinaryGenerativeClassifier(model_growth, model_recession, beta_g, beta_rec)"
   ]
  },
  {
   "cell_type": "code",
   "execution_count": 143,
   "metadata": {
    "collapsed": false
   },
   "outputs": [],
   "source": [
    "doc_probs = gen_classifier.predict_proba(test_corpus, priors=[0.83, 0.17])\n",
    "preds = list(map(lambda x: 0 if np.argmax(x) == 0 else 1, doc_probs))"
   ]
  },
  {
   "cell_type": "code",
   "execution_count": 149,
   "metadata": {
    "collapsed": false
   },
   "outputs": [
    {
     "data": {
      "text/plain": [
       "0.93870815652993866"
      ]
     },
     "execution_count": 149,
     "metadata": {},
     "output_type": "execute_result"
    }
   ],
   "source": [
    "roc_auc_score(test['D_NBER'], list(map(lambda x: x[1], doc_probs)))"
   ]
  },
  {
   "cell_type": "code",
   "execution_count": 150,
   "metadata": {
    "collapsed": true
   },
   "outputs": [],
   "source": [
    "pd.DataFrame(theta_train_g).to_csv('theta_train_growth.csv', index=False)\n",
    "pd.DataFrame(theta_train_rec).to_csv('theta_train_recession.csv', index=False)\n",
    "pd.DataFrame(theta_test_g).to_csv('theta_test_growth.csv', index=False)\n",
    "pd.DataFrame(theta_test_rec).to_csv('theta_test_recession.csv', index=False)\n",
    "\n",
    "pd.DataFrame(beta_g).to_csv('beta_train_growth.csv', index=False)\n",
    "pd.DataFrame(beta_rec).to_csv('beta_train_recession.csv', index=False)\n",
    "\n",
    "\n"
   ]
  },
  {
   "cell_type": "code",
   "execution_count": 156,
   "metadata": {
    "collapsed": false
   },
   "outputs": [
    {
     "data": {
      "text/plain": [
       "0.028359297000323736"
      ]
     },
     "execution_count": 156,
     "metadata": {},
     "output_type": "execute_result"
    }
   ],
   "source": [
    "calc_sd_auc(0.93870815652993866, 101, 21)"
   ]
  },
  {
   "cell_type": "code",
   "execution_count": 176,
   "metadata": {
    "collapsed": false
   },
   "outputs": [
    {
     "name": "stdout",
     "output_type": "stream",
     "text": [
      "0.397115109118\n"
     ]
    }
   ],
   "source": [
    "n0, n1 = test['D_NBER'].value_counts()\n",
    "AUC_A = roc_auc_score(test['D_NBER'], model.predict_proba(theta_test)[:, 1])\n",
    "AUC_B = roc_auc_score(test['D_NBER'], list(map(lambda x: x[1], doc_probs)))\n",
    "\n",
    "sd_A = calc_sd_auc(AUC_A, n0, n1)\n",
    "sd_B = calc_sd_auc(AUC_B, n0, n1)\n",
    "\n",
    "recession_idx = np.array(np.where(test['D_NBER']==1)[0], dtype=np.int)\n",
    "\n",
    "recession_probs_A = model.predict_proba(theta_test)[:, 1]\n",
    "recession_probs_B = list(map(lambda x: x[1], doc_probs))\n",
    "\n",
    "corr_A_B = correlate_AUCs(AUC_A, AUC_B,\n",
    "                         recession_probs_A,\n",
    "                         recession_probs_B,\n",
    "                         recession_idx)\n",
    "\n",
    "z_stat = calc_z_diff(AUC_A, AUC_B, sd_A, sd_B, corr_A_B)\n",
    "\n",
    "print(z_stat)"
   ]
  },
  {
   "cell_type": "markdown",
   "metadata": {},
   "source": [
    "# Nowcast"
   ]
  },
  {
   "cell_type": "code",
   "execution_count": 177,
   "metadata": {
    "collapsed": true
   },
   "outputs": [],
   "source": [
    "train_set = full_minutes[:200]\n",
    "test_set = full_minutes[200:]"
   ]
  },
  {
   "cell_type": "code",
   "execution_count": 178,
   "metadata": {
    "collapsed": true
   },
   "outputs": [],
   "source": [
    "recession_docs = train_set[train_set['D_NBER'] == 1]\n",
    "growth_docs = train_set[train_set['D_NBER'] == 0]"
   ]
  },
  {
   "cell_type": "code",
   "execution_count": 179,
   "metadata": {
    "collapsed": false
   },
   "outputs": [
    {
     "name": "stdout",
     "output_type": "stream",
     "text": [
      "Successfully parsed the corpus. # docs:  22\n",
      "Vocabulary size, # tokens:  3776\n",
      "Successfully parsed the corpus. # docs:  178\n",
      "Vocabulary size, # tokens:  3776\n"
     ]
    }
   ],
   "source": [
    "docs_rec, _ = parser.parse_vocab(recession_docs['text'])\n",
    "train_corpus_rec = parser.parse_corpus(docs_rec, vocab)\n",
    "# v_docs_rec, _ = parser.parse_vocab(validate['text'])\n",
    "# validation_corpus = parser.parse_corpus(validation_docs, vocab)\n",
    "\n",
    "docs_g, _ = parser.parse_vocab(growth_docs['text'])\n",
    "train_corpus_g = parser.parse_corpus(docs_g, vocab)"
   ]
  },
  {
   "cell_type": "code",
   "execution_count": 188,
   "metadata": {
    "collapsed": false
   },
   "outputs": [
    {
     "name": "stdout",
     "output_type": "stream",
     "text": [
      "Successfully parsed the corpus. # docs:  122\n",
      "Vocabulary size, # tokens:  3776\n"
     ]
    }
   ],
   "source": [
    "test_docs, _ = parser.parse_vocab(test_set['text'])\n",
    "test_corpus = parser.parse_corpus(test_docs, vocab)"
   ]
  },
  {
   "cell_type": "code",
   "execution_count": 180,
   "metadata": {
    "collapsed": true
   },
   "outputs": [],
   "source": [
    "nowcast_recession = LDA(K=50, alpha=1, eta=0.01)\n",
    "nowcast_growth = LDA(K=50, alpha=1, eta=0.01)"
   ]
  },
  {
   "cell_type": "code",
   "execution_count": 181,
   "metadata": {
    "collapsed": false
   },
   "outputs": [
    {
     "name": "stdout",
     "output_type": "stream",
     "text": [
      "Learning completed!\n",
      "Total time taken: 10s\n",
      "ELBO = -41661.105978\n"
     ]
    }
   ],
   "source": [
    "theta_nowcast_rec, beta_nowcast_rec, elbo_rec = nowcast_recession.fit(train_corpus_rec, vocab, max_iter=300, verbose=False)"
   ]
  },
  {
   "cell_type": "code",
   "execution_count": 182,
   "metadata": {
    "collapsed": false
   },
   "outputs": [
    {
     "name": "stdout",
     "output_type": "stream",
     "text": [
      "Learning completed!\n",
      "Total time taken: 69s\n",
      "ELBO = -952454.039859\n"
     ]
    }
   ],
   "source": [
    "theta_nowcast_g, beta_nowcast_g, elbo_g = nowcast_growth.fit(train_corpus_g, vocab, max_iter=300, verbose=False)"
   ]
  },
  {
   "cell_type": "code",
   "execution_count": 189,
   "metadata": {
    "collapsed": true
   },
   "outputs": [],
   "source": [
    "theta_test_nowcast_rec, _ = nowcast_recession.infer(test_corpus)\n",
    "theta_test_nowcast_g, _ = nowcast_growth.infer(test_corpus)"
   ]
  },
  {
   "cell_type": "code",
   "execution_count": 187,
   "metadata": {
    "collapsed": false
   },
   "outputs": [
    {
     "name": "stdout",
     "output_type": "stream",
     "text": [
      "A generative classifier is initialised.\n"
     ]
    }
   ],
   "source": [
    "gen_nowcaster = BinaryGenerativeClassifier(nowcast_growth, nowcast_recession, beta_nowcast_g, beta_nowcast_rec)"
   ]
  },
  {
   "cell_type": "code",
   "execution_count": 192,
   "metadata": {
    "collapsed": false
   },
   "outputs": [
    {
     "data": {
      "text/plain": [
       "0.84285714285714286"
      ]
     },
     "execution_count": 192,
     "metadata": {},
     "output_type": "execute_result"
    }
   ],
   "source": [
    "nowcast_probs = gen_classifier.predict_proba(test_corpus, priors=[0.86, 0.14])\n",
    "nowcast_preds = list(map(lambda x: 0 if np.argmax(x) == 0 else 1, nowcast_probs))\n",
    "\n",
    "roc_auc_score(test_set['D_NBER'], list(map(lambda x: x[1], nowcast_probs)))"
   ]
  },
  {
   "cell_type": "code",
   "execution_count": 193,
   "metadata": {
    "collapsed": false
   },
   "outputs": [
    {
     "data": {
      "text/plain": [
       "0.03810903434441655"
      ]
     },
     "execution_count": 193,
     "metadata": {},
     "output_type": "execute_result"
    }
   ],
   "source": [
    "calc_sd_auc(0.84285714285714286, 105, 17)"
   ]
  },
  {
   "cell_type": "code",
   "execution_count": 200,
   "metadata": {
    "collapsed": true
   },
   "outputs": [],
   "source": [
    "discriminative_nowcast_predictions = pd.read_csv('discr_nowcast_preds.csv')"
   ]
  },
  {
   "cell_type": "code",
   "execution_count": 243,
   "metadata": {
    "collapsed": false
   },
   "outputs": [
    {
     "name": "stdout",
     "output_type": "stream",
     "text": [
      "0.551504266055\n"
     ]
    },
    {
     "name": "stderr",
     "output_type": "stream",
     "text": [
      "/Users/dkn22/anaconda3/lib/python3.6/site-packages/scipy/stats/stats.py:3029: RuntimeWarning: invalid value encountered in double_scalars\n",
      "  r = r_num / r_den\n"
     ]
    }
   ],
   "source": [
    "n0, n1 = test_set['D_NBER'].value_counts()\n",
    "AUC_A = 0.872\n",
    "AUC_B = roc_auc_score(test_set['D_NBER'], list(map(lambda x: x[1], nowcast_probs)))\n",
    "\n",
    "sd_A = calc_sd_auc(AUC_A, n0, n1)\n",
    "sd_B = calc_sd_auc(AUC_B, n0, n1)\n",
    "\n",
    "recession_idx = np.array(np.where(test_set['D_NBER']==1)[0], dtype=np.int)\n",
    "\n",
    "recession_probs_A = discriminative_nowcast_predictions['p1']\n",
    "recession_probs_B = list(map(lambda x: x[1], nowcast_probs))\n",
    "\n",
    "corr_A_B = correlate_AUCs(AUC_A, AUC_B,\n",
    "                         recession_probs_A,\n",
    "                         recession_probs_B,\n",
    "                         recession_idx)\n",
    "if np.isnan(corr_A_B):\n",
    "    corr_A_B = 0 # one array may have zero variance\n",
    "\n",
    "z_stat = calc_z_diff(AUC_A, AUC_B, sd_A, sd_B, corr_A_B)\n",
    "\n",
    "print(z_stat)"
   ]
  },
  {
   "cell_type": "code",
   "execution_count": null,
   "metadata": {
    "collapsed": true
   },
   "outputs": [],
   "source": [
    "pd.DataFrame(theta_nowcast_g).to_csv('theta_nowcast_growth.csv', index=False)\n",
    "pd.DataFrame(theta_nowcast_rec).to_csv('theta_nowcast_recession.csv', index=False)\n",
    "pd.DataFrame(theta_test_nowcast_g).to_csv('theta_test_nowcast_growth.csv', index=False)\n",
    "pd.DataFrame(theta_test_nowcast_rec).to_csv('theta_test_nowcast_recession.csv', index=False)\n",
    "\n",
    "pd.DataFrame(beta_nowcast_g).to_csv('beta_nowcast_growth.csv', index=False)\n",
    "pd.DataFrame(beta_nowcast_rec).to_csv('beta_nowcast_recession.csv', index=False)\n",
    "\n",
    "pd.DataFrame(nowcast_probs).to_csv('gen_classifier_probs.csv', index=False)\n"
   ]
  },
  {
   "cell_type": "code",
   "execution_count": 279,
   "metadata": {
    "collapsed": false
   },
   "outputs": [
    {
     "data": {
      "text/plain": [
       "array([[60, 45],\n",
       "       [ 0, 17]])"
      ]
     },
     "execution_count": 279,
     "metadata": {},
     "output_type": "execute_result"
    }
   ],
   "source": [
    "confusion_matrix(test_set['D_NBER'], np.array(recession_probs_B) > 0.99)"
   ]
  },
  {
   "cell_type": "code",
   "execution_count": 261,
   "metadata": {
    "collapsed": false
   },
   "outputs": [
    {
     "data": {
      "image/png": "[encoded data removed]",
      "text/plain": [
       "<matplotlib.figure.Figure at 0x11d4a3f98>"
      ]
     },
     "metadata": {},
     "output_type": "display_data"
    }
   ],
   "source": [
    "predictions = {'Model A': recession_probs_A,\n",
    "              'Model B': recession_probs_B}\n",
    "\n",
    "# plt.figure(figsize=(15,8))\n",
    "for model, preds in predictions.items():\n",
    "    fpr, tpr, thresholds = roc_curve(test_set['D_NBER'], preds) \n",
    "    roc_auc = auc(fpr, tpr)\n",
    "        \n",
    "    plt.plot(fpr, tpr, lw=1, label = model + ' (AUC = %.2f)' %(roc_auc))\n",
    "    \n",
    "plt.plot([0, 1], [0, 1], linestyle='--', label='\"Always-Expansion\" Classifier')\n",
    "    \n",
    "plt.xlim([-0.05, 1.05])\n",
    "plt.ylim([-0.05, 1.05])\n",
    "    \n",
    "plt.xlabel('False Positive Rate')\n",
    "plt.ylabel('True Positive Rate')\n",
    "    \n",
    "plt.title('ROC Curve')\n",
    "plt.legend(frameon=True, loc='lower right')\n",
    "plt.savefig('roc_curve.png', format='png', dpi=600, transparent=False,\n",
    "           bbox_inches='tight')\n",
    "plt.show()"
   ]
  },
  {
   "cell_type": "code",
   "execution_count": 275,
   "metadata": {
    "collapsed": false
   },
   "outputs": [
    {
     "data": {
      "text/plain": [
       "0.62295081967213117"
      ]
     },
     "execution_count": 275,
     "metadata": {},
     "output_type": "execute_result"
    }
   ],
   "source": [
    "accuracy_score(test_set['D_NBER'], np.array(recession_probs_B) > 0.9)"
   ]
  },
  {
   "cell_type": "code",
   "execution_count": null,
   "metadata": {
    "collapsed": true
   },
   "outputs": [],
   "source": []
  }
 ],
 "metadata": {
  "kernelspec": {
   "display_name": "Python 3",
   "language": "python",
   "name": "python3"
  },
  "language_info": {
   "codemirror_mode": {
    "name": "ipython",
    "version": 3
   },
   "file_extension": ".py",
   "mimetype": "text/x-python",
   "name": "python",
   "nbconvert_exporter": "python",
   "pygments_lexer": "ipython3",
   "version": "3.6.0"
  }
 },
 "nbformat": 4,
 "nbformat_minor": 2
}
