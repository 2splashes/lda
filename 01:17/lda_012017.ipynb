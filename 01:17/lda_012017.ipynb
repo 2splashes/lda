{
 "cells": [
  {
   "cell_type": "code",
   "execution_count": 1,
   "metadata": {
    "collapsed": false
   },
   "outputs": [],
   "source": [
    "from vb_lda import *\n",
    "import pandas as pd"
   ]
  },
  {
   "cell_type": "code",
   "execution_count": 2,
   "metadata": {
    "collapsed": false
   },
   "outputs": [
    {
     "data": {
      "text/html": [
       "<div>\n",
       "<table border=\"1\" class=\"dataframe\">\n",
       "  <thead>\n",
       "    <tr style=\"text-align: right;\">\n",
       "      <th></th>\n",
       "      <th>meeting</th>\n",
       "      <th>text</th>\n",
       "      <th>seq</th>\n",
       "      <th>D_NBER</th>\n",
       "    </tr>\n",
       "  </thead>\n",
       "  <tbody>\n",
       "    <tr>\n",
       "      <th>0</th>\n",
       "      <td>197601</td>\n",
       "      <td>By unanimous vote, the Federal Reserve Bank o...</td>\n",
       "      <td>0</td>\n",
       "      <td>0</td>\n",
       "    </tr>\n",
       "    <tr>\n",
       "      <th>1</th>\n",
       "      <td>197601</td>\n",
       "      <td>Committee, to execute transactions in the Sys...</td>\n",
       "      <td>1</td>\n",
       "      <td>0</td>\n",
       "    </tr>\n",
       "    <tr>\n",
       "      <th>2</th>\n",
       "      <td>197601</td>\n",
       "      <td>The information reviewed at this meeting sugg...</td>\n",
       "      <td>2</td>\n",
       "      <td>0</td>\n",
       "    </tr>\n",
       "    <tr>\n",
       "      <th>3</th>\n",
       "      <td>197601</td>\n",
       "      <td>sales rose sharply, but the increase in the f...</td>\n",
       "      <td>3</td>\n",
       "      <td>0</td>\n",
       "    </tr>\n",
       "    <tr>\n",
       "      <th>4</th>\n",
       "      <td>197601</td>\n",
       "      <td>The exchange value of the dollar against lead...</td>\n",
       "      <td>4</td>\n",
       "      <td>0</td>\n",
       "    </tr>\n",
       "  </tbody>\n",
       "</table>\n",
       "</div>"
      ],
      "text/plain": [
       "   meeting                                               text  seq  D_NBER\n",
       "0   197601   By unanimous vote, the Federal Reserve Bank o...    0       0\n",
       "1   197601   Committee, to execute transactions in the Sys...    1       0\n",
       "2   197601   The information reviewed at this meeting sugg...    2       0\n",
       "3   197601   sales rose sharply, but the increase in the f...    3       0\n",
       "4   197601   The exchange value of the dollar against lead...    4       0"
      ]
     },
     "execution_count": 2,
     "metadata": {},
     "output_type": "execute_result"
    }
   ],
   "source": [
    "data = pd.read_csv('minutes_data.txt', sep='\\t')\n",
    "data.head()"
   ]
  },
  {
   "cell_type": "code",
   "execution_count": 3,
   "metadata": {
    "collapsed": false
   },
   "outputs": [
    {
     "data": {
      "text/plain": [
       "(7659, 4)"
      ]
     },
     "execution_count": 3,
     "metadata": {},
     "output_type": "execute_result"
    }
   ],
   "source": [
    "data.shape"
   ]
  },
  {
   "cell_type": "code",
   "execution_count": 4,
   "metadata": {
    "collapsed": true
   },
   "outputs": [],
   "source": [
    "recession = data[data['D_NBER'] == 1]\n",
    "growth = data[data['D_NBER'] == 0]"
   ]
  },
  {
   "cell_type": "markdown",
   "metadata": {},
   "source": [
    "# Recession data"
   ]
  },
  {
   "cell_type": "code",
   "execution_count": 5,
   "metadata": {
    "collapsed": false
   },
   "outputs": [],
   "source": [
    "model_recession = lda(20, alpha = 0.1, eta = 0.01)"
   ]
  },
  {
   "cell_type": "code",
   "execution_count": 6,
   "metadata": {
    "collapsed": false
   },
   "outputs": [
    {
     "name": "stdout",
     "output_type": "stream",
     "text": [
      "Created the vocabulary. # terms: 2579\n",
      "Successfully parsed the corpus. # docs:  822\n",
      "Updating the hyperparameter alpha...\n",
      "Successfully completed 1 iteration(s) in 0s.\n",
      "ELBO = -569270.293119\n",
      "Updating the hyperparameter alpha...\n",
      "Updating the hyperparameter alpha...\n",
      "Updating the hyperparameter alpha...\n",
      "Updating the hyperparameter alpha...\n",
      "Successfully completed 5 iteration(s) in 3s.\n",
      "ELBO = -470456.298195\n",
      "Updating the hyperparameter alpha...\n",
      "Updating the hyperparameter alpha...\n",
      "Updating the hyperparameter alpha...\n",
      "Updating the hyperparameter alpha...\n",
      "Updating the hyperparameter alpha...\n",
      "Successfully completed 10 iteration(s) in 6s.\n",
      "ELBO = -444530.555045\n",
      "Updating the hyperparameter alpha...\n",
      "Updating the hyperparameter alpha...\n",
      "Updating the hyperparameter alpha...\n",
      "Updating the hyperparameter alpha...\n",
      "Updating the hyperparameter alpha...\n",
      "Successfully completed 15 iteration(s) in 9s.\n",
      "ELBO = -427427.768626\n",
      "Updating the hyperparameter alpha...\n",
      "Updating the hyperparameter alpha...\n",
      "Updating the hyperparameter alpha...\n",
      "Updating the hyperparameter alpha...\n",
      "Updating the hyperparameter alpha...\n",
      "Successfully completed 20 iteration(s) in 13s.\n",
      "ELBO = -413232.863963\n",
      "Updating the hyperparameter alpha...\n",
      "Updating the hyperparameter alpha...\n",
      "Updating the hyperparameter alpha...\n",
      "Updating the hyperparameter alpha...\n",
      "Updating the hyperparameter alpha...\n",
      "Successfully completed 25 iteration(s) in 17s.\n",
      "ELBO = -400137.165382\n",
      "Updating the hyperparameter alpha...\n",
      "Updating the hyperparameter alpha...\n",
      "Updating the hyperparameter alpha...\n",
      "Updating the hyperparameter alpha...\n",
      "Updating the hyperparameter alpha...\n",
      "Successfully completed 30 iteration(s) in 21s.\n",
      "ELBO = -394428.229328\n",
      "Updating the hyperparameter alpha...\n",
      "Updating the hyperparameter alpha...\n",
      "Updating the hyperparameter alpha...\n",
      "Updating the hyperparameter alpha...\n",
      "Updating the hyperparameter alpha...\n",
      "Successfully completed 35 iteration(s) in 24s.\n",
      "ELBO = -392040.223108\n",
      "Updating the hyperparameter alpha...\n",
      "Updating the hyperparameter alpha...\n",
      "Updating the hyperparameter alpha...\n",
      "Updating the hyperparameter alpha...\n",
      "Updating the hyperparameter alpha...\n",
      "Successfully completed 40 iteration(s) in 28s.\n",
      "ELBO = -390939.441745\n",
      "Updating the hyperparameter alpha...\n",
      "Updating the hyperparameter alpha...\n",
      "Updating the hyperparameter alpha...\n",
      "Updating the hyperparameter alpha...\n",
      "Updating the hyperparameter alpha...\n",
      "Successfully completed 45 iteration(s) in 31s.\n",
      "ELBO = -390404.141036\n",
      "Updating the hyperparameter alpha...\n",
      "Updating the hyperparameter alpha...\n",
      "Updating the hyperparameter alpha...\n",
      "Updating the hyperparameter alpha...\n",
      "Updating the hyperparameter alpha...\n",
      "Successfully completed 50 iteration(s) in 35s.\n",
      "ELBO = -390114.576006\n",
      "Updating the hyperparameter alpha...\n",
      "Updating the hyperparameter alpha...\n",
      "Updating the hyperparameter alpha...\n",
      "Updating the hyperparameter alpha...\n",
      "Updating the hyperparameter alpha...\n",
      "Successfully completed 55 iteration(s) in 39s.\n",
      "ELBO = -389889.605315\n",
      "Updating the hyperparameter alpha...\n",
      "Updating the hyperparameter alpha...\n",
      "Updating the hyperparameter alpha...\n",
      "Updating the hyperparameter alpha...\n",
      "Updating the hyperparameter alpha...\n",
      "Successfully completed 60 iteration(s) in 42s.\n",
      "ELBO = -389745.140947\n",
      "Updating the hyperparameter alpha...\n",
      "Updating the hyperparameter alpha...\n",
      "Updating the hyperparameter alpha...\n",
      "Updating the hyperparameter alpha...\n",
      "Updating the hyperparameter alpha...\n",
      "Successfully completed 65 iteration(s) in 45s.\n",
      "ELBO = -389649.706806\n",
      "Updating the hyperparameter alpha...\n",
      "Updating the hyperparameter alpha...\n",
      "Updating the hyperparameter alpha...\n",
      "Updating the hyperparameter alpha...\n",
      "Updating the hyperparameter alpha...\n",
      "Successfully completed 70 iteration(s) in 49s.\n",
      "ELBO = -389564.123103\n",
      "Updating the hyperparameter alpha...\n",
      "Updating the hyperparameter alpha...\n",
      "Updating the hyperparameter alpha...\n",
      "Updating the hyperparameter alpha...\n",
      "Updating the hyperparameter alpha...\n",
      "Successfully completed 75 iteration(s) in 52s.\n",
      "ELBO = -389496.371676\n",
      "Updating the hyperparameter alpha...\n",
      "Updating the hyperparameter alpha...\n",
      "Updating the hyperparameter alpha...\n",
      "Updating the hyperparameter alpha...\n",
      "Updating the hyperparameter alpha...\n",
      "Successfully completed 80 iteration(s) in 55s.\n",
      "ELBO = -389453.222799\n",
      "Updating the hyperparameter alpha...\n",
      "Updating the hyperparameter alpha...\n",
      "Updating the hyperparameter alpha...\n",
      "Updating the hyperparameter alpha...\n",
      "Updating the hyperparameter alpha...\n",
      "Successfully completed 85 iteration(s) in 58s.\n",
      "ELBO = -389413.925796\n",
      "Updating the hyperparameter alpha...\n",
      "Updating the hyperparameter alpha...\n",
      "Updating the hyperparameter alpha...\n",
      "Updating the hyperparameter alpha...\n",
      "Updating the hyperparameter alpha...\n",
      "Successfully completed 90 iteration(s) in 61s.\n",
      "ELBO = -389370.790664\n",
      "Updating the hyperparameter alpha...\n",
      "Updating the hyperparameter alpha...\n",
      "Updating the hyperparameter alpha...\n",
      "Updating the hyperparameter alpha...\n",
      "Updating the hyperparameter alpha...\n",
      "Successfully completed 95 iteration(s) in 64s.\n",
      "ELBO = -389321.768691\n",
      "Updating the hyperparameter alpha...\n",
      "Updating the hyperparameter alpha...\n",
      "Updating the hyperparameter alpha...\n",
      "Updating the hyperparameter alpha...\n",
      "Updating the hyperparameter alpha...\n",
      "Successfully completed 100 iteration(s) in 66s.\n",
      "ELBO = -389296.532534\n",
      "Learning completed!\n",
      "Total time taken: 66s\n",
      "ELBO = -389296.532534\n"
     ]
    }
   ],
   "source": [
    "theta, beta = model_recession.fit(recession['text'], max_iter=100, gamma_max_iter = 10, \n",
    "                                  alpha_update_interval = 1)"
   ]
  },
  {
   "cell_type": "code",
   "execution_count": 8,
   "metadata": {
    "collapsed": false
   },
   "outputs": [
    {
     "name": "stdout",
     "output_type": "stream",
     "text": [
      "[ 0.41076904  0.28151561  0.65248722  0.38251708  0.35799782  0.3139462\n",
      "  0.35383152  0.71699003  0.35726925  0.28691403  0.41161677  0.4424283\n",
      "  0.46482159  0.33742783  0.44738904  0.37315475  0.49962691  0.53229444\n",
      "  0.53849413  0.47368456]\n",
      "Topic 0: inventori sector manufactur vehicl octob motor sale sizabl\n",
      "Topic 1: feder purchas reserv secur market asset treasuri sheet\n",
      "Topic 2: rate quarter month averag first declin rose march\n",
      "Topic 3: rate foreign dollar interest major currenc period valu\n",
      "Topic 4: quarter economi growth activ slow emerg foreign econom\n",
      "Topic 5: direct bank new system reserv follow feder polici\n",
      "Topic 6: rang percent committe growth quarter fourth market seek\n",
      "Topic 7: market continu activ econom condit remain recent credit\n",
      "Topic 8: economi support level addit stimulu program low still\n",
      "Topic 9: project half forecast staff expect 2009 year 2008\n",
      "Topic 10: reserv rate period consist aggreg fund expans growth\n",
      "Topic 11: market financi term condit fund liquid strain improv\n",
      "Topic 12: consum declin sale hous real home januari price\n",
      "Topic 13: product import industri good export output u.s. vote\n",
      "Topic 14: busi spend invest capit equip report mani appear\n",
      "Topic 15: spread period market bank mortgag yield loan intermeet\n",
      "Topic 16: well demand rel reduc level continu year back\n",
      "Topic 17: econom committe polici member would feder risk growth\n",
      "Topic 18: price inflat increas energi expect recent core moder\n",
      "Topic 19: particip could would expect note concern might risk\n"
     ]
    }
   ],
   "source": [
    "print(model_recession.alpha)\n",
    "n_top_words = 8\n",
    "for i, topic_dist in enumerate(beta):\n",
    "    topic_words = np.argsort(topic_dist)[:-(n_top_words+1):-1]\n",
    "    top_words = []\n",
    "    for j in topic_words:\n",
    "        top_words.append(model_recession._vocab[j])\n",
    "    print('Topic {}: {}'.format(i, ' '.join(top_words)))"
   ]
  },
  {
   "cell_type": "markdown",
   "metadata": {},
   "source": [
    "# Growth data"
   ]
  },
  {
   "cell_type": "code",
   "execution_count": 9,
   "metadata": {
    "collapsed": true
   },
   "outputs": [],
   "source": [
    "model_growth = lda(20, alpha = 0.1, eta = 0.01)"
   ]
  },
  {
   "cell_type": "code",
   "execution_count": 10,
   "metadata": {
    "collapsed": false
   },
   "outputs": [
    {
     "name": "stdout",
     "output_type": "stream",
     "text": [
      "Created the vocabulary. # terms: 4861\n",
      "Successfully parsed the corpus. # docs:  6837\n",
      "Updating the hyperparameter alpha...\n",
      "Successfully completed 1 iteration(s) in 7s.\n",
      "ELBO = -3712029.05662\n",
      "Updating the hyperparameter alpha...\n",
      "Updating the hyperparameter alpha...\n",
      "Updating the hyperparameter alpha...\n",
      "Updating the hyperparameter alpha...\n",
      "Successfully completed 5 iteration(s) in 32s.\n",
      "ELBO = -3352319.71515\n",
      "Updating the hyperparameter alpha...\n",
      "Updating the hyperparameter alpha...\n",
      "Updating the hyperparameter alpha...\n",
      "Updating the hyperparameter alpha...\n",
      "Updating the hyperparameter alpha...\n",
      "Successfully completed 10 iteration(s) in 61s.\n",
      "ELBO = -3302901.57916\n",
      "Updating the hyperparameter alpha...\n",
      "Updating the hyperparameter alpha...\n",
      "Updating the hyperparameter alpha...\n",
      "Updating the hyperparameter alpha...\n",
      "Updating the hyperparameter alpha...\n",
      "Successfully completed 15 iteration(s) in 89s.\n",
      "ELBO = -3272285.04229\n",
      "Updating the hyperparameter alpha...\n",
      "Updating the hyperparameter alpha...\n",
      "Updating the hyperparameter alpha...\n",
      "Updating the hyperparameter alpha...\n",
      "Updating the hyperparameter alpha...\n",
      "Successfully completed 20 iteration(s) in 120s.\n",
      "ELBO = -3242346.71771\n",
      "Updating the hyperparameter alpha...\n",
      "Updating the hyperparameter alpha...\n",
      "Updating the hyperparameter alpha...\n",
      "Updating the hyperparameter alpha...\n",
      "Updating the hyperparameter alpha...\n",
      "Successfully completed 25 iteration(s) in 148s.\n",
      "ELBO = -3212231.47087\n",
      "Updating the hyperparameter alpha...\n",
      "Updating the hyperparameter alpha...\n",
      "Updating the hyperparameter alpha...\n",
      "Updating the hyperparameter alpha...\n",
      "Updating the hyperparameter alpha...\n",
      "Successfully completed 30 iteration(s) in 177s.\n",
      "ELBO = -3178363.71424\n",
      "Updating the hyperparameter alpha...\n",
      "Updating the hyperparameter alpha...\n",
      "Updating the hyperparameter alpha...\n",
      "Updating the hyperparameter alpha...\n",
      "Updating the hyperparameter alpha...\n",
      "Successfully completed 35 iteration(s) in 206s.\n",
      "ELBO = -3138499.72964\n",
      "Updating the hyperparameter alpha...\n",
      "Updating the hyperparameter alpha...\n",
      "Updating the hyperparameter alpha...\n",
      "Updating the hyperparameter alpha...\n",
      "Updating the hyperparameter alpha...\n",
      "Successfully completed 40 iteration(s) in 238s.\n",
      "ELBO = -3064810.06888\n",
      "Updating the hyperparameter alpha...\n",
      "Updating the hyperparameter alpha...\n",
      "Updating the hyperparameter alpha...\n",
      "Updating the hyperparameter alpha...\n",
      "Updating the hyperparameter alpha...\n",
      "Successfully completed 45 iteration(s) in 266s.\n",
      "ELBO = -3020868.85184\n",
      "Updating the hyperparameter alpha...\n",
      "Updating the hyperparameter alpha...\n",
      "Updating the hyperparameter alpha...\n",
      "Updating the hyperparameter alpha...\n",
      "Updating the hyperparameter alpha...\n",
      "Successfully completed 50 iteration(s) in 294s.\n",
      "ELBO = -3003091.97508\n",
      "Updating the hyperparameter alpha...\n",
      "Updating the hyperparameter alpha...\n",
      "Updating the hyperparameter alpha...\n",
      "Updating the hyperparameter alpha...\n",
      "Updating the hyperparameter alpha...\n",
      "Successfully completed 55 iteration(s) in 333s.\n",
      "ELBO = -2993902.68451\n",
      "Updating the hyperparameter alpha...\n",
      "Updating the hyperparameter alpha...\n",
      "Updating the hyperparameter alpha...\n",
      "Updating the hyperparameter alpha...\n",
      "Updating the hyperparameter alpha...\n",
      "Successfully completed 60 iteration(s) in 359s.\n",
      "ELBO = -2988628.72901\n",
      "Updating the hyperparameter alpha...\n",
      "Updating the hyperparameter alpha...\n",
      "Updating the hyperparameter alpha...\n",
      "Updating the hyperparameter alpha...\n",
      "Updating the hyperparameter alpha...\n",
      "Successfully completed 65 iteration(s) in 390s.\n",
      "ELBO = -2985459.08938\n",
      "Updating the hyperparameter alpha...\n",
      "Updating the hyperparameter alpha...\n",
      "Updating the hyperparameter alpha...\n",
      "Updating the hyperparameter alpha...\n",
      "Updating the hyperparameter alpha...\n",
      "Successfully completed 70 iteration(s) in 418s.\n",
      "ELBO = -2983492.07165\n",
      "Updating the hyperparameter alpha...\n",
      "Updating the hyperparameter alpha...\n",
      "Updating the hyperparameter alpha...\n",
      "Updating the hyperparameter alpha...\n",
      "Updating the hyperparameter alpha...\n",
      "Successfully completed 75 iteration(s) in 448s.\n",
      "ELBO = -2982275.3475\n",
      "Updating the hyperparameter alpha...\n",
      "Updating the hyperparameter alpha...\n",
      "Updating the hyperparameter alpha...\n",
      "Updating the hyperparameter alpha...\n",
      "Updating the hyperparameter alpha...\n",
      "Successfully completed 80 iteration(s) in 475s.\n",
      "ELBO = -2981494.50469\n",
      "Updating the hyperparameter alpha...\n",
      "Updating the hyperparameter alpha...\n",
      "Updating the hyperparameter alpha...\n",
      "Updating the hyperparameter alpha...\n",
      "Updating the hyperparameter alpha...\n",
      "Successfully completed 85 iteration(s) in 513s.\n",
      "ELBO = -2980940.68798\n",
      "Updating the hyperparameter alpha...\n",
      "Updating the hyperparameter alpha...\n",
      "Updating the hyperparameter alpha...\n",
      "Updating the hyperparameter alpha...\n",
      "Updating the hyperparameter alpha...\n",
      "Successfully completed 90 iteration(s) in 553s.\n",
      "ELBO = -2980558.95364\n",
      "Updating the hyperparameter alpha...\n",
      "Updating the hyperparameter alpha...\n",
      "Updating the hyperparameter alpha...\n",
      "Updating the hyperparameter alpha...\n",
      "Updating the hyperparameter alpha...\n",
      "Successfully completed 95 iteration(s) in 578s.\n",
      "ELBO = -2980274.31128\n",
      "Updating the hyperparameter alpha...\n",
      "Updating the hyperparameter alpha...\n",
      "Updating the hyperparameter alpha...\n",
      "Updating the hyperparameter alpha...\n",
      "Updating the hyperparameter alpha...\n",
      "Successfully completed 100 iteration(s) in 610s.\n",
      "ELBO = -2980076.14317\n",
      "Learning completed!\n",
      "Total time taken: 610s\n",
      "ELBO = -2980076.143166\n"
     ]
    }
   ],
   "source": [
    "theta1, beta1 = model_growth.fit(growth['text'], max_iter=100, gamma_max_iter = 10,\n",
    "                                alpha_update_interval = 1)"
   ]
  },
  {
   "cell_type": "code",
   "execution_count": 11,
   "metadata": {
    "collapsed": false
   },
   "outputs": [
    {
     "name": "stdout",
     "output_type": "stream",
     "text": [
      "[ 0.15719711  0.20554682  0.20091096  0.20910662  0.13027313  0.1519922\n",
      "  0.11878452  0.21098492  0.16514469  0.15622363  0.18935483  0.16276095\n",
      "  0.13982048  0.13483106  0.17451937  0.19272467  0.22059942  0.16923957\n",
      "  0.14864879  0.18454341]\n",
      "Topic 0: real staff project forecast growth expect year busi\n",
      "Topic 1: polici committe econom purchas inflat would member monetari\n",
      "Topic 2: growth would pressur econom expans price labor continu\n",
      "Topic 3: quarter industri product increas good manufactur equip vehicl\n",
      "Topic 4: market period intermeet yield financi spread equiti bond\n",
      "Topic 5: foreign dollar valu u.s. export import econom currenc\n",
      "Topic 6: credit loan bank condit borrow mortgag lend continu\n",
      "Topic 7: price inflat increas energi consum month core year\n",
      "Topic 8: busi inventori invest sector stock level report firm\n",
      "Topic 9: sale home august level start year new hous\n",
      "Topic 10: rate feder fund market interest meet period percent\n",
      "Topic 11: reserv period committe intermeet direct restraint econom condit\n",
      "Topic 12: direct follow vote new bank account polici domest\n",
      "Topic 13: growth rang m2 year m3 aggreg domest rate\n",
      "Topic 14: consum spend hous recent household incom growth activ\n",
      "Topic 15: particip inflat expect econom outlook risk note would\n",
      "Topic 16: member effect economi might like rise seem mani\n",
      "Topic 17: committe percent rang market condit growth open seek\n",
      "Topic 18: januari februari declin decemb chang littl march rate\n",
      "Topic 19: employ rate unemploy labor month continu inform remain\n"
     ]
    }
   ],
   "source": [
    "print(model_growth.alpha)\n",
    "n_top_words = 8\n",
    "for i, topic_dist in enumerate(beta1):\n",
    "    topic_words = np.argsort(topic_dist)[:-(n_top_words+1):-1]\n",
    "    top_words = []\n",
    "    for j in topic_words:\n",
    "        top_words.append(model_growth._vocab[j])\n",
    "    print('Topic {}: {}'.format(i, ' '.join(top_words)))"
   ]
  },
  {
   "cell_type": "code",
   "execution_count": null,
   "metadata": {
    "collapsed": true
   },
   "outputs": [],
   "source": []
  }
 ],
 "metadata": {
  "kernelspec": {
   "display_name": "Python 3",
   "language": "python",
   "name": "python3"
  },
  "language_info": {
   "codemirror_mode": {
    "name": "ipython",
    "version": 3
   },
   "file_extension": ".py",
   "mimetype": "text/x-python",
   "name": "python",
   "nbconvert_exporter": "python",
   "pygments_lexer": "ipython3",
   "version": "3.5.2"
  }
 },
 "nbformat": 4,
 "nbformat_minor": 0
}
