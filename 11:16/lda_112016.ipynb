{
 "cells": [
  {
   "cell_type": "code",
   "execution_count": 1,
   "metadata": {
    "collapsed": false
   },
   "outputs": [],
   "source": [
    "from vb_lda import *\n",
    "import pandas as pd"
   ]
  },
  {
   "cell_type": "code",
   "execution_count": 2,
   "metadata": {
    "collapsed": false
   },
   "outputs": [
    {
     "data": {
      "text/html": [
       "<div>\n",
       "<table border=\"1\" class=\"dataframe\">\n",
       "  <thead>\n",
       "    <tr style=\"text-align: right;\">\n",
       "      <th></th>\n",
       "      <th>meeting</th>\n",
       "      <th>text</th>\n",
       "      <th>seq</th>\n",
       "      <th>D_NBER</th>\n",
       "    </tr>\n",
       "  </thead>\n",
       "  <tbody>\n",
       "    <tr>\n",
       "      <th>0</th>\n",
       "      <td>197601</td>\n",
       "      <td>By unanimous vote, the Federal Reserve Bank o...</td>\n",
       "      <td>0</td>\n",
       "      <td>0</td>\n",
       "    </tr>\n",
       "    <tr>\n",
       "      <th>1</th>\n",
       "      <td>197601</td>\n",
       "      <td>Committee, to execute transactions in the Sys...</td>\n",
       "      <td>1</td>\n",
       "      <td>0</td>\n",
       "    </tr>\n",
       "    <tr>\n",
       "      <th>2</th>\n",
       "      <td>197601</td>\n",
       "      <td>The information reviewed at this meeting sugg...</td>\n",
       "      <td>2</td>\n",
       "      <td>0</td>\n",
       "    </tr>\n",
       "    <tr>\n",
       "      <th>3</th>\n",
       "      <td>197601</td>\n",
       "      <td>sales rose sharply, but the increase in the f...</td>\n",
       "      <td>3</td>\n",
       "      <td>0</td>\n",
       "    </tr>\n",
       "    <tr>\n",
       "      <th>4</th>\n",
       "      <td>197601</td>\n",
       "      <td>The exchange value of the dollar against lead...</td>\n",
       "      <td>4</td>\n",
       "      <td>0</td>\n",
       "    </tr>\n",
       "  </tbody>\n",
       "</table>\n",
       "</div>"
      ],
      "text/plain": [
       "   meeting                                               text  seq  D_NBER\n",
       "0   197601   By unanimous vote, the Federal Reserve Bank o...    0       0\n",
       "1   197601   Committee, to execute transactions in the Sys...    1       0\n",
       "2   197601   The information reviewed at this meeting sugg...    2       0\n",
       "3   197601   sales rose sharply, but the increase in the f...    3       0\n",
       "4   197601   The exchange value of the dollar against lead...    4       0"
      ]
     },
     "execution_count": 2,
     "metadata": {},
     "output_type": "execute_result"
    }
   ],
   "source": [
    "data = pd.read_csv('minutes_data.txt', sep='\\t')\n",
    "data.head()"
   ]
  },
  {
   "cell_type": "code",
   "execution_count": 3,
   "metadata": {
    "collapsed": false
   },
   "outputs": [
    {
     "data": {
      "text/plain": [
       "(7659, 4)"
      ]
     },
     "execution_count": 3,
     "metadata": {},
     "output_type": "execute_result"
    }
   ],
   "source": [
    "data.shape"
   ]
  },
  {
   "cell_type": "code",
   "execution_count": 4,
   "metadata": {
    "collapsed": false
   },
   "outputs": [],
   "source": [
    "model = lda(20, alpha = 0.1, eta = 0.01)"
   ]
  },
  {
   "cell_type": "code",
   "execution_count": 5,
   "metadata": {
    "collapsed": false
   },
   "outputs": [
    {
     "name": "stdout",
     "output_type": "stream",
     "text": [
      "Created the vocabulary. # terms: 5072\n",
      "Successfully parsed the corpus. # docs:  7659\n",
      "Successfully completed 1 iteration(s) in 6s.\n",
      "ELBO = -4159191.4511\n",
      "Successfully completed 5 iteration(s) in 36s.\n",
      "ELBO = -4014009.54466\n",
      "Successfully completed 10 iteration(s) in 66s.\n",
      "ELBO = -3710689.27822\n",
      "Successfully completed 15 iteration(s) in 92s.\n",
      "ELBO = -3448453.85215\n",
      "Successfully completed 20 iteration(s) in 118s.\n",
      "ELBO = -3380917.02961\n",
      "Successfully completed 25 iteration(s) in 143s.\n",
      "ELBO = -3361277.08889\n",
      "Successfully completed 30 iteration(s) in 169s.\n",
      "ELBO = -3354043.49958\n",
      "Successfully completed 35 iteration(s) in 197s.\n",
      "ELBO = -3350631.11527\n",
      "Successfully completed 40 iteration(s) in 228s.\n",
      "ELBO = -3348723.92904\n",
      "Successfully completed 45 iteration(s) in 266s.\n",
      "ELBO = -3347615.94209\n",
      "Successfully completed 50 iteration(s) in 293s.\n",
      "ELBO = -3346909.21318\n",
      "Successfully completed 55 iteration(s) in 318s.\n",
      "ELBO = -3346455.19938\n",
      "Successfully completed 60 iteration(s) in 341s.\n",
      "ELBO = -3346095.43496\n",
      "Successfully completed 65 iteration(s) in 364s.\n",
      "ELBO = -3345843.77851\n",
      "Successfully completed 70 iteration(s) in 387s.\n",
      "ELBO = -3345641.50468\n",
      "Successfully completed 75 iteration(s) in 413s.\n",
      "ELBO = -3345502.62238\n",
      "Successfully completed 80 iteration(s) in 434s.\n",
      "ELBO = -3345378.10625\n",
      "Successfully completed 85 iteration(s) in 455s.\n",
      "ELBO = -3345274.29142\n",
      "Successfully completed 90 iteration(s) in 475s.\n",
      "ELBO = -3345197.12548\n",
      "Successfully completed 95 iteration(s) in 499s.\n",
      "ELBO = -3345143.99062\n",
      "Successfully completed 100 iteration(s) in 522s.\n",
      "ELBO = -3345097.44134\n",
      "Learning completed!\n",
      "Total time taken: 522s\n",
      "ELBO = -3345097.441336\n"
     ]
    }
   ],
   "source": [
    "theta, beta = model.fit(data['text'], max_iter=100, gamma_max_iter = 5)"
   ]
  },
  {
   "cell_type": "code",
   "execution_count": 6,
   "metadata": {
    "collapsed": false
   },
   "outputs": [
    {
     "name": "stdout",
     "output_type": "stream",
     "text": [
      "Topic 0: committe percent feder direct growth financi market rang\n",
      "Topic 1: quarter busi equip product inventori manufactur vehicl spend\n",
      "Topic 2: consum spend busi credit particip report market recent\n",
      "Topic 3: inflat labor price remain market continu econom recent\n",
      "Topic 4: secur messrs. mr. agenc vote system action direct\n",
      "Topic 5: growth would econom busi expect spend expans year\n",
      "Topic 6: inflat committe econom risk expect particip price growth\n",
      "Topic 7: econom economi foreign u.s. growth activ quarter export\n",
      "Topic 8: member would polici risk could economi pressur might\n",
      "Topic 9: price consum inflat energi increas month core year\n",
      "Topic 10: rate employ quarter unemploy month averag increas payrol\n",
      "Topic 11: rang growth m2 year m3 rate debt quarter\n",
      "Topic 12: reserv committe period rate direct growth condit consist\n",
      "Topic 13: market period bank yield intermeet bond fund declin\n",
      "Topic 14: hous sale home mortgag level remain rate start\n",
      "Topic 15: polici purchas committe market financi secur would particip\n",
      "Topic 16: rate polici feder inflat econom fund expect committe\n",
      "Topic 17: dollar rate currenc market foreign valu declin interest\n",
      "Topic 18: good import quarter export increas product industri deficit\n",
      "Topic 19: rate staff price forecast project real gdp period\n"
     ]
    }
   ],
   "source": [
    "n_top_words = 8\n",
    "for i, topic_dist in enumerate(beta):\n",
    "    topic_words = np.argsort(topic_dist)[:-(n_top_words+1):-1]\n",
    "    top_words = []\n",
    "    for j in topic_words:\n",
    "        top_words.append(model._vocab[j])\n",
    "    print('Topic {}: {}'.format(i, ' '.join(top_words)))"
   ]
  },
  {
   "cell_type": "code",
   "execution_count": null,
   "metadata": {
    "collapsed": true
   },
   "outputs": [],
   "source": []
  }
 ],
 "metadata": {
  "kernelspec": {
   "display_name": "Python 3",
   "language": "python",
   "name": "python3"
  },
  "language_info": {
   "codemirror_mode": {
    "name": "ipython",
    "version": 3
   },
   "file_extension": ".py",
   "mimetype": "text/x-python",
   "name": "python",
   "nbconvert_exporter": "python",
   "pygments_lexer": "ipython3",
   "version": "3.5.2"
  }
 },
 "nbformat": 4,
 "nbformat_minor": 0
}
